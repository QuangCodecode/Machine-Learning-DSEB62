{
 "cells": [
  {
   "cell_type": "code",
   "execution_count": 1,
   "id": "8ef9a564",
   "metadata": {},
   "outputs": [],
   "source": [
    "import numpy as np\n",
    "import pandas as pd\n",
    "import matplotlib.pyplot as plt"
   ]
  },
  {
   "cell_type": "markdown",
   "id": "eb000f32",
   "metadata": {},
   "source": [
    "# 1"
   ]
  },
  {
   "cell_type": "code",
   "execution_count": 2,
   "id": "755166bd",
   "metadata": {},
   "outputs": [],
   "source": [
    "data = pd.read_csv('C:/Users/quang/Downloads/data_square.csv').values"
   ]
  },
  {
   "cell_type": "code",
   "execution_count": 3,
   "id": "ba907601",
   "metadata": {},
   "outputs": [
    {
     "data": {
      "text/plain": [
       "array([[  30.    , -100.    ],\n",
       "       [  32.4138, -190.725 ],\n",
       "       [  34.8276, -269.798 ],\n",
       "       [  37.2414, -337.218 ],\n",
       "       [  39.6552, -392.985 ],\n",
       "       [  42.069 , -437.099 ],\n",
       "       [  44.4828, -469.56  ],\n",
       "       [  46.8966, -490.369 ],\n",
       "       [  49.3103, -499.524 ],\n",
       "       [  51.7241, -497.027 ],\n",
       "       [  54.1379, -482.878 ],\n",
       "       [  56.5517, -457.075 ],\n",
       "       [  58.9655, -419.62  ],\n",
       "       [  61.3793, -370.511 ],\n",
       "       [  63.7931, -309.75  ],\n",
       "       [  66.2069, -237.337 ],\n",
       "       [  68.6207, -153.27  ],\n",
       "       [  71.0345,  -57.5505],\n",
       "       [  73.4483,   49.8216],\n",
       "       [  75.8621,  168.847 ],\n",
       "       [  78.2759,  299.524 ],\n",
       "       [  80.6897,  441.855 ],\n",
       "       [  83.1034,  595.838 ],\n",
       "       [  85.5172,  761.474 ],\n",
       "       [  87.931 ,  938.763 ],\n",
       "       [  90.3448, 1127.71  ],\n",
       "       [  92.7586, 1328.3   ],\n",
       "       [  95.1724, 1540.55  ],\n",
       "       [  97.5862, 1764.45  ],\n",
       "       [ 100.    , 2000.    ]])"
      ]
     },
     "execution_count": 3,
     "metadata": {},
     "output_type": "execute_result"
    }
   ],
   "source": [
    "data"
   ]
  },
  {
   "cell_type": "code",
   "execution_count": 4,
   "id": "a2c21957",
   "metadata": {},
   "outputs": [],
   "source": [
    "x = data[:, 0]\n",
    "y = data[:, 1]"
   ]
  },
  {
   "cell_type": "code",
   "execution_count": 5,
   "id": "dcab0115",
   "metadata": {},
   "outputs": [],
   "source": [
    "def poly_fit_coef(x, y):\n",
    "    x = np.array(x)\n",
    "    y = np.array(y)\n",
    "    x_array = np.concatenate((np.ones(x.shape) , x, x**2)).reshape(3, -1)\n",
    "    x_dot_x = np.dot(x_array, x_array.T)\n",
    "    x_inv = np.linalg.inv(x_dot_x)\n",
    "    x_dot_y = np.dot(y, x_array.T)\n",
    "    intercept_beta = np.dot(x_inv, x_dot_y)\n",
    "    return intercept_beta"
   ]
  },
  {
   "cell_type": "code",
   "execution_count": 6,
   "id": "01409b8d",
   "metadata": {},
   "outputs": [
    {
     "name": "stdout",
     "output_type": "stream",
     "text": [
      "2000.0057942496205 + -100.00022213870989x 1.0000019878798518x^2\n"
     ]
    }
   ],
   "source": [
    "print('{} + {}x {}x^2'.format(poly_fit_coef(x, y)[0],\n",
    "                                  poly_fit_coef(x, y)[1],\n",
    "                                  poly_fit_coef(x, y)[2]))"
   ]
  },
  {
   "cell_type": "code",
   "execution_count": 7,
   "id": "b51a3c52",
   "metadata": {},
   "outputs": [],
   "source": [
    "def poly_pred(x, coefficients):\n",
    "    return coefficients[0] + np.dot(coefficients[1], x) + np.dot(coefficients[2], x**2)"
   ]
  },
  {
   "cell_type": "code",
   "execution_count": 8,
   "id": "ed90658e",
   "metadata": {},
   "outputs": [],
   "source": [
    "y_pred = poly_pred(x, poly_fit_coef(x, y))"
   ]
  },
  {
   "cell_type": "code",
   "execution_count": 9,
   "id": "7ff8f7d6",
   "metadata": {},
   "outputs": [
    {
     "data": {
      "image/png": "[encoded data removed]",
      "text/plain": [
       "<Figure size 432x288 with 1 Axes>"
      ]
     },
     "metadata": {
      "needs_background": "light"
     },
     "output_type": "display_data"
    }
   ],
   "source": [
    "plt.scatter(x, y, color = 'r')\n",
    "plt.plot(x, y_pred, color ='b')\n",
    "plt.title('Price vs Area')\n",
    "plt.xlabel('Price')\n",
    "plt.ylabel('Area')\n",
    "plt.grid()\n",
    "plt.show()"
   ]
  },
  {
   "cell_type": "markdown",
   "id": "22d2c35b",
   "metadata": {},
   "source": [
    "# 2"
   ]
  },
  {
   "cell_type": "code",
   "execution_count": 10,
   "id": "eec62d81",
   "metadata": {},
   "outputs": [
    {
     "data": {
      "image/png": "[encoded data removed]",
      "text/plain": [
       "<Figure size 432x288 with 1 Axes>"
      ]
     },
     "metadata": {
      "needs_background": "light"
     },
     "output_type": "display_data"
    }
   ],
   "source": [
    "def gen_data(func, size, std):\n",
    "    x = np.linspace(0, 1, size)\n",
    "    t = func(x) + np.random.normal(scale=std, size=x.shape)\n",
    "    return x, t\n",
    "\n",
    "def func(x):\n",
    "    return np.sin(2 * np.pi * x)\n",
    "\n",
    "x_train, y_train = gen_data(func, 10, 0.25)\n",
    "x_test = np.linspace(0, 1, 100)\n",
    "y_test = func(x_test)\n",
    "\n",
    "plt.scatter(x_train, y_train, color = \"r\")\n",
    "plt.plot(x_test, y_test, color = \"b\")\n",
    "plt.grid()\n",
    "plt.show()"
   ]
  },
  {
   "cell_type": "code",
   "execution_count": 23,
   "id": "52cc31fe",
   "metadata": {},
   "outputs": [],
   "source": [
    "import math\n",
    "\n",
    "class PolynomialRegression() :\n",
    "     \n",
    "    def __init__( self, degree, learning_rate, iterations ) :\n",
    "        self.degree = degree\n",
    "        self.learning_rate = learning_rate\n",
    "        self.iterations = iterations\n",
    "     \n",
    "    def transform( self, X ) :\n",
    "        X_transform = np.ones( ( self.m, 1 ) )\n",
    "        j = 0\n",
    "        for j in range( self.degree + 1 ) :\n",
    "            if j != 0 :\n",
    "                x_pow = np.power( X, j )\n",
    "                # append x_pow to X_transform\n",
    "                X_transform = np.append( X_transform, x_pow.reshape( -1, 1 ), axis = 1 )\n",
    "        return X_transform\n",
    "\n",
    "    def normalize( self, X ) :\n",
    "        X[:, 1:] = ( X[:, 1:] - np.mean( X[:, 1:], axis = 0 ) ) / np.std( X[:, 1:], axis = 0 )\n",
    "        return X\n",
    "     \n",
    "    def fit( self, X, Y ) :\n",
    "        self.X = X\n",
    "        self.Y = Y\n",
    "        self.m, self.n = self.X.shape\n",
    "        self.W = np.zeros( self.degree + 1 )\n",
    "        X_transform = self.transform( self.X )\n",
    "        X_normalize = self.normalize( X_transform )\n",
    "        for i in range( self.iterations ) :\n",
    "            h = self.predict( self.X )\n",
    "            error = h - self.Y\n",
    "            self.W = self.W - self.learning_rate * ( 1 / self.m ) * np.dot( X_normalize.T, error )\n",
    "        return self\n",
    "     \n",
    "    def predict( self, X ) :\n",
    "        X_transform = self.transform( X )\n",
    "        X_normalize = self.normalize( X_transform )\n",
    "        return np.dot( X_transform, self.W )"
   ]
  },
  {
   "cell_type": "code",
   "execution_count": 24,
   "id": "45d77aed",
   "metadata": {},
   "outputs": [],
   "source": [
    "model = PolynomailRegression(0, 0.01, 500)"
   ]
  },
  {
   "cell_type": "code",
   "execution_count": 26,
   "id": "7dae7e37",
   "metadata": {},
   "outputs": [
    {
     "data": {
      "text/plain": [
       "<__main__.PolynomailRegression at 0x1bd62c2b8b0>"
      ]
     },
     "execution_count": 26,
     "metadata": {},
     "output_type": "execute_result"
    }
   ],
   "source": [
    "model.fit(x_train.reshape(-1, 1), y_train)"
   ]
  },
  {
   "cell_type": "code",
   "execution_count": 27,
   "id": "2b7fc529",
   "metadata": {},
   "outputs": [],
   "source": [
    "y_p = model.predict(x_test)"
   ]
  },
  {
   "cell_type": "code",
   "execution_count": null,
   "id": "df1e6dc3",
   "metadata": {},
   "outputs": [],
   "source": [
    "plt.scatter(x_train, y_train, color = 'r')\n",
    "plt.plot(x, y_pred, color ='b')\n",
    "plt.title('Price vs Area')\n",
    "plt.xlabel('Price')\n",
    "plt.ylabel('Area')\n",
    "plt.grid()\n",
    "plt.show()"
   ]
  }
 ],
 "metadata": {
  "kernelspec": {
   "display_name": "Python 3",
   "language": "python",
   "name": "python3"
  },
  "language_info": {
   "codemirror_mode": {
    "name": "ipython",
    "version": 3
   },
   "file_extension": ".py",
   "mimetype": "text/x-python",
   "name": "python",
   "nbconvert_exporter": "python",
   "pygments_lexer": "ipython3",
   "version": "3.8.8"
  }
 },
 "nbformat": 4,
 "nbformat_minor": 5
}
